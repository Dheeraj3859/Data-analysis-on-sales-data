{
 "cells": [
  {
   "cell_type": "code",
   "execution_count": 1,
   "metadata": {},
   "outputs": [],
   "source": [
    "import pandas as pd"
   ]
  },
  {
   "cell_type": "code",
   "execution_count": 2,
   "metadata": {},
   "outputs": [],
   "source": [
    "from pandas import ExcelWriter\n",
    "from pandas import ExcelFile"
   ]
  },
  {
   "cell_type": "code",
   "execution_count": 4,
   "metadata": {},
   "outputs": [],
   "source": [
    "\n",
    "df = pd.read_excel('Data Analyst Assignment (1).xlsx')"
   ]
  },
  {
   "cell_type": "code",
   "execution_count": 5,
   "metadata": {},
   "outputs": [
    {
     "data": {
      "text/html": [
       "<div>\n",
       "<style scoped>\n",
       "    .dataframe tbody tr th:only-of-type {\n",
       "        vertical-align: middle;\n",
       "    }\n",
       "\n",
       "    .dataframe tbody tr th {\n",
       "        vertical-align: top;\n",
       "    }\n",
       "\n",
       "    .dataframe thead th {\n",
       "        text-align: right;\n",
       "    }\n",
       "</style>\n",
       "<table border=\"1\" class=\"dataframe\">\n",
       "  <thead>\n",
       "    <tr style=\"text-align: right;\">\n",
       "      <th></th>\n",
       "      <th>Date</th>\n",
       "      <th>product</th>\n",
       "      <th>phase</th>\n",
       "      <th>campaign_platform</th>\n",
       "      <th>campaign_type</th>\n",
       "      <th>communication_medium</th>\n",
       "      <th>subchannel</th>\n",
       "      <th>audience_type</th>\n",
       "      <th>creative_type</th>\n",
       "      <th>creative_name</th>\n",
       "      <th>device</th>\n",
       "      <th>age</th>\n",
       "      <th>spends</th>\n",
       "      <th>impressions</th>\n",
       "      <th>clicks</th>\n",
       "      <th>link_clicks</th>\n",
       "    </tr>\n",
       "  </thead>\n",
       "  <tbody>\n",
       "    <tr>\n",
       "      <th>0</th>\n",
       "      <td>2019-10-16</td>\n",
       "      <td>Product 1</td>\n",
       "      <td>Performance</td>\n",
       "      <td>Google Ads</td>\n",
       "      <td>Search</td>\n",
       "      <td>Search Keywords</td>\n",
       "      <td>Brand</td>\n",
       "      <td>'-</td>\n",
       "      <td>'-</td>\n",
       "      <td>'-</td>\n",
       "      <td>Desktop</td>\n",
       "      <td>18-24</td>\n",
       "      <td>0.00</td>\n",
       "      <td>2</td>\n",
       "      <td>0</td>\n",
       "      <td>0.0</td>\n",
       "    </tr>\n",
       "    <tr>\n",
       "      <th>1</th>\n",
       "      <td>2019-10-16</td>\n",
       "      <td>Product 1</td>\n",
       "      <td>Performance</td>\n",
       "      <td>Google Ads</td>\n",
       "      <td>Search</td>\n",
       "      <td>Search Keywords</td>\n",
       "      <td>Brand</td>\n",
       "      <td>'-</td>\n",
       "      <td>'-</td>\n",
       "      <td>'-</td>\n",
       "      <td>Desktop</td>\n",
       "      <td>25-34</td>\n",
       "      <td>0.00</td>\n",
       "      <td>5</td>\n",
       "      <td>0</td>\n",
       "      <td>0.0</td>\n",
       "    </tr>\n",
       "    <tr>\n",
       "      <th>2</th>\n",
       "      <td>2019-10-16</td>\n",
       "      <td>Product 1</td>\n",
       "      <td>Performance</td>\n",
       "      <td>Google Ads</td>\n",
       "      <td>Search</td>\n",
       "      <td>Search Keywords</td>\n",
       "      <td>Brand</td>\n",
       "      <td>'-</td>\n",
       "      <td>'-</td>\n",
       "      <td>'-</td>\n",
       "      <td>Desktop</td>\n",
       "      <td>35-44</td>\n",
       "      <td>0.00</td>\n",
       "      <td>1</td>\n",
       "      <td>0</td>\n",
       "      <td>0.0</td>\n",
       "    </tr>\n",
       "    <tr>\n",
       "      <th>3</th>\n",
       "      <td>2019-10-16</td>\n",
       "      <td>Product 1</td>\n",
       "      <td>Performance</td>\n",
       "      <td>Google Ads</td>\n",
       "      <td>Search</td>\n",
       "      <td>Search Keywords</td>\n",
       "      <td>Brand</td>\n",
       "      <td>'-</td>\n",
       "      <td>'-</td>\n",
       "      <td>'-</td>\n",
       "      <td>Desktop</td>\n",
       "      <td>Undetermined</td>\n",
       "      <td>14.63</td>\n",
       "      <td>5</td>\n",
       "      <td>3</td>\n",
       "      <td>0.0</td>\n",
       "    </tr>\n",
       "    <tr>\n",
       "      <th>4</th>\n",
       "      <td>2019-10-18</td>\n",
       "      <td>Product 1</td>\n",
       "      <td>Performance</td>\n",
       "      <td>Google Ads</td>\n",
       "      <td>Search</td>\n",
       "      <td>Search Keywords</td>\n",
       "      <td>Brand</td>\n",
       "      <td>'-</td>\n",
       "      <td>'-</td>\n",
       "      <td>'-</td>\n",
       "      <td>Desktop</td>\n",
       "      <td>18-24</td>\n",
       "      <td>53.31</td>\n",
       "      <td>10</td>\n",
       "      <td>2</td>\n",
       "      <td>0.0</td>\n",
       "    </tr>\n",
       "    <tr>\n",
       "      <th>...</th>\n",
       "      <td>...</td>\n",
       "      <td>...</td>\n",
       "      <td>...</td>\n",
       "      <td>...</td>\n",
       "      <td>...</td>\n",
       "      <td>...</td>\n",
       "      <td>...</td>\n",
       "      <td>...</td>\n",
       "      <td>...</td>\n",
       "      <td>...</td>\n",
       "      <td>...</td>\n",
       "      <td>...</td>\n",
       "      <td>...</td>\n",
       "      <td>...</td>\n",
       "      <td>...</td>\n",
       "      <td>...</td>\n",
       "    </tr>\n",
       "    <tr>\n",
       "      <th>16829</th>\n",
       "      <td>2020-07-07</td>\n",
       "      <td>Product 1</td>\n",
       "      <td>Performance</td>\n",
       "      <td>Google Ads</td>\n",
       "      <td>Search</td>\n",
       "      <td>Search Keywords</td>\n",
       "      <td>Brand</td>\n",
       "      <td>'-</td>\n",
       "      <td>'-</td>\n",
       "      <td>'-</td>\n",
       "      <td>Mobile</td>\n",
       "      <td>25-34</td>\n",
       "      <td>19.88</td>\n",
       "      <td>36</td>\n",
       "      <td>15</td>\n",
       "      <td>0.0</td>\n",
       "    </tr>\n",
       "    <tr>\n",
       "      <th>16830</th>\n",
       "      <td>2020-07-07</td>\n",
       "      <td>Product 1</td>\n",
       "      <td>Performance</td>\n",
       "      <td>Google Ads</td>\n",
       "      <td>Search</td>\n",
       "      <td>Search Keywords</td>\n",
       "      <td>Brand</td>\n",
       "      <td>'-</td>\n",
       "      <td>'-</td>\n",
       "      <td>'-</td>\n",
       "      <td>Mobile</td>\n",
       "      <td>35-44</td>\n",
       "      <td>1.64</td>\n",
       "      <td>11</td>\n",
       "      <td>1</td>\n",
       "      <td>0.0</td>\n",
       "    </tr>\n",
       "    <tr>\n",
       "      <th>16831</th>\n",
       "      <td>2020-07-07</td>\n",
       "      <td>Product 1</td>\n",
       "      <td>Performance</td>\n",
       "      <td>Google Ads</td>\n",
       "      <td>Search</td>\n",
       "      <td>Search Keywords</td>\n",
       "      <td>Brand</td>\n",
       "      <td>'-</td>\n",
       "      <td>'-</td>\n",
       "      <td>'-</td>\n",
       "      <td>Mobile</td>\n",
       "      <td>45-54</td>\n",
       "      <td>0.00</td>\n",
       "      <td>3</td>\n",
       "      <td>0</td>\n",
       "      <td>0.0</td>\n",
       "    </tr>\n",
       "    <tr>\n",
       "      <th>16832</th>\n",
       "      <td>2020-07-07</td>\n",
       "      <td>Product 1</td>\n",
       "      <td>Performance</td>\n",
       "      <td>Google Ads</td>\n",
       "      <td>Search</td>\n",
       "      <td>Search Keywords</td>\n",
       "      <td>Brand</td>\n",
       "      <td>'-</td>\n",
       "      <td>'-</td>\n",
       "      <td>'-</td>\n",
       "      <td>Mobile</td>\n",
       "      <td>65 or more</td>\n",
       "      <td>0.00</td>\n",
       "      <td>3</td>\n",
       "      <td>0</td>\n",
       "      <td>0.0</td>\n",
       "    </tr>\n",
       "    <tr>\n",
       "      <th>16833</th>\n",
       "      <td>2020-07-07</td>\n",
       "      <td>Product 1</td>\n",
       "      <td>Performance</td>\n",
       "      <td>Google Ads</td>\n",
       "      <td>Search</td>\n",
       "      <td>Search Keywords</td>\n",
       "      <td>Brand</td>\n",
       "      <td>'-</td>\n",
       "      <td>'-</td>\n",
       "      <td>'-</td>\n",
       "      <td>Mobile</td>\n",
       "      <td>Undetermined</td>\n",
       "      <td>1.40</td>\n",
       "      <td>14</td>\n",
       "      <td>1</td>\n",
       "      <td>0.0</td>\n",
       "    </tr>\n",
       "  </tbody>\n",
       "</table>\n",
       "<p>16834 rows × 16 columns</p>\n",
       "</div>"
      ],
      "text/plain": [
       "            Date    product        phase campaign_platform campaign_type  \\\n",
       "0     2019-10-16  Product 1  Performance        Google Ads        Search   \n",
       "1     2019-10-16  Product 1  Performance        Google Ads        Search   \n",
       "2     2019-10-16  Product 1  Performance        Google Ads        Search   \n",
       "3     2019-10-16  Product 1  Performance        Google Ads        Search   \n",
       "4     2019-10-18  Product 1  Performance        Google Ads        Search   \n",
       "...          ...        ...          ...               ...           ...   \n",
       "16829 2020-07-07  Product 1  Performance        Google Ads        Search   \n",
       "16830 2020-07-07  Product 1  Performance        Google Ads        Search   \n",
       "16831 2020-07-07  Product 1  Performance        Google Ads        Search   \n",
       "16832 2020-07-07  Product 1  Performance        Google Ads        Search   \n",
       "16833 2020-07-07  Product 1  Performance        Google Ads        Search   \n",
       "\n",
       "      communication_medium subchannel audience_type creative_type  \\\n",
       "0          Search Keywords      Brand            '-            '-   \n",
       "1          Search Keywords      Brand            '-            '-   \n",
       "2          Search Keywords      Brand            '-            '-   \n",
       "3          Search Keywords      Brand            '-            '-   \n",
       "4          Search Keywords      Brand            '-            '-   \n",
       "...                    ...        ...           ...           ...   \n",
       "16829      Search Keywords      Brand            '-            '-   \n",
       "16830      Search Keywords      Brand            '-            '-   \n",
       "16831      Search Keywords      Brand            '-            '-   \n",
       "16832      Search Keywords      Brand            '-            '-   \n",
       "16833      Search Keywords      Brand            '-            '-   \n",
       "\n",
       "      creative_name   device           age  spends  impressions  clicks  \\\n",
       "0                '-  Desktop         18-24    0.00            2       0   \n",
       "1                '-  Desktop         25-34    0.00            5       0   \n",
       "2                '-  Desktop         35-44    0.00            1       0   \n",
       "3                '-  Desktop  Undetermined   14.63            5       3   \n",
       "4                '-  Desktop         18-24   53.31           10       2   \n",
       "...             ...      ...           ...     ...          ...     ...   \n",
       "16829            '-   Mobile         25-34   19.88           36      15   \n",
       "16830            '-   Mobile         35-44    1.64           11       1   \n",
       "16831            '-   Mobile         45-54    0.00            3       0   \n",
       "16832            '-   Mobile    65 or more    0.00            3       0   \n",
       "16833            '-   Mobile  Undetermined    1.40           14       1   \n",
       "\n",
       "       link_clicks  \n",
       "0              0.0  \n",
       "1              0.0  \n",
       "2              0.0  \n",
       "3              0.0  \n",
       "4              0.0  \n",
       "...            ...  \n",
       "16829          0.0  \n",
       "16830          0.0  \n",
       "16831          0.0  \n",
       "16832          0.0  \n",
       "16833          0.0  \n",
       "\n",
       "[16834 rows x 16 columns]"
      ]
     },
     "execution_count": 5,
     "metadata": {},
     "output_type": "execute_result"
    }
   ],
   "source": [
    "df"
   ]
  },
  {
   "cell_type": "code",
   "execution_count": 6,
   "metadata": {},
   "outputs": [
    {
     "data": {
      "text/plain": [
       "array(['18-24', '25-34', '35-44', 'Undetermined', '45-54', '55-64',\n",
       "       '65 or more'], dtype=object)"
      ]
     },
     "execution_count": 6,
     "metadata": {},
     "output_type": "execute_result"
    }
   ],
   "source": [
    "df['age'].unique()"
   ]
  },
  {
   "cell_type": "code",
   "execution_count": 13,
   "metadata": {},
   "outputs": [
    {
     "data": {
      "text/plain": [
       "16834"
      ]
     },
     "execution_count": 13,
     "metadata": {},
     "output_type": "execute_result"
    }
   ],
   "source": [
    "len(df['impressions'])"
   ]
  },
  {
   "cell_type": "markdown",
   "metadata": {},
   "source": [
    "#"
   ]
  },
  {
   "cell_type": "code",
   "execution_count": 14,
   "metadata": {},
   "outputs": [],
   "source": [
    "maxi = 0\n",
    "for i in range(len(df['impressions'])):\n",
    "    if df['impressions'][i] > maxi:\n",
    "        maxi=df['impressions'][i]\n"
   ]
  },
  {
   "cell_type": "code",
   "execution_count": 15,
   "metadata": {},
   "outputs": [
    {
     "name": "stdout",
     "output_type": "stream",
     "text": [
      "67454\n"
     ]
    }
   ],
   "source": [
    "print(maxi)"
   ]
  },
  {
   "cell_type": "code",
   "execution_count": 23,
   "metadata": {},
   "outputs": [
    {
     "data": {
      "text/plain": [
       "<matplotlib.axes._subplots.AxesSubplot at 0x7f46194ddb00>"
      ]
     },
     "execution_count": 23,
     "metadata": {},
     "output_type": "execute_result"
    },
    {
     "data": {
      "image/png": "[encoded data removed]",
      "text/plain": [
       "<Figure size 432x288 with 1 Axes>"
      ]
     },
     "metadata": {
      "needs_background": "light"
     },
     "output_type": "display_data"
    }
   ],
   "source": [
    "df['impressions'].hist(bins=4)"
   ]
  },
  {
   "cell_type": "code",
   "execution_count": 24,
   "metadata": {},
   "outputs": [
    {
     "data": {
      "text/plain": [
       "array([[<matplotlib.axes._subplots.AxesSubplot object at 0x7f46199d6ac8>,\n",
       "        <matplotlib.axes._subplots.AxesSubplot object at 0x7f46199d30f0>],\n",
       "       [<matplotlib.axes._subplots.AxesSubplot object at 0x7f46199516a0>,\n",
       "        <matplotlib.axes._subplots.AxesSubplot object at 0x7f4619902c50>]],\n",
       "      dtype=object)"
      ]
     },
     "execution_count": 24,
     "metadata": {},
     "output_type": "execute_result"
    },
    {
     "data": {
      "image/png": "[encoded data removed]",
      "text/plain": [
       "<Figure size 432x288 with 4 Axes>"
      ]
     },
     "metadata": {
      "needs_background": "light"
     },
     "output_type": "display_data"
    }
   ],
   "source": [
    "df.hist()"
   ]
  },
  {
   "cell_type": "code",
   "execution_count": 32,
   "metadata": {},
   "outputs": [
    {
     "data": {
      "text/plain": [
       "<matplotlib.axes._subplots.AxesSubplot at 0x7f461520fa58>"
      ]
     },
     "execution_count": 32,
     "metadata": {},
     "output_type": "execute_result"
    },
    {
     "data": {
      "image/png": "[encoded data removed]",
      "text/plain": [
       "<Figure size 432x288 with 1 Axes>"
      ]
     },
     "metadata": {
      "needs_background": "light"
     },
     "output_type": "display_data"
    }
   ],
   "source": [
    "df.plot.scatter('spends','impressions') #should be used"
   ]
  },
  {
   "cell_type": "code",
   "execution_count": 33,
   "metadata": {},
   "outputs": [
    {
     "data": {
      "text/plain": [
       "<matplotlib.axes._subplots.AxesSubplot at 0x7f46151f70b8>"
      ]
     },
     "execution_count": 33,
     "metadata": {},
     "output_type": "execute_result"
    },
    {
     "data": {
      "image/png": "[encoded data removed]",
      "text/plain": [
       "<Figure size 432x288 with 1 Axes>"
      ]
     },
     "metadata": {
      "needs_background": "light"
     },
     "output_type": "display_data"
    }
   ],
   "source": [
    "df.plot.scatter('age','impressions') #should be used"
   ]
  },
  {
   "cell_type": "code",
   "execution_count": 34,
   "metadata": {},
   "outputs": [
    {
     "data": {
      "text/plain": [
       "<matplotlib.axes._subplots.AxesSubplot at 0x7f4615167160>"
      ]
     },
     "execution_count": 34,
     "metadata": {},
     "output_type": "execute_result"
    },
    {
     "data": {
      "image/png": "[encoded data removed]",
      "text/plain": [
       "<Figure size 432x288 with 1 Axes>"
      ]
     },
     "metadata": {
      "needs_background": "light"
     },
     "output_type": "display_data"
    }
   ],
   "source": [
    "df.plot.scatter('age','spends')"
   ]
  },
  {
   "cell_type": "code",
   "execution_count": 35,
   "metadata": {},
   "outputs": [
    {
     "data": {
      "text/plain": [
       "<matplotlib.axes._subplots.AxesSubplot at 0x7f4615145860>"
      ]
     },
     "execution_count": 35,
     "metadata": {},
     "output_type": "execute_result"
    },
    {
     "data": {
      "image/png": "[encoded data removed]",
      "text/plain": [
       "<Figure size 432x288 with 1 Axes>"
      ]
     },
     "metadata": {
      "needs_background": "light"
     },
     "output_type": "display_data"
    }
   ],
   "source": [
    "df.plot.scatter('age','device')#no effect"
   ]
  },
  {
   "cell_type": "code",
   "execution_count": 36,
   "metadata": {},
   "outputs": [
    {
     "data": {
      "text/plain": [
       "<matplotlib.axes._subplots.AxesSubplot at 0x7f46151f7f28>"
      ]
     },
     "execution_count": 36,
     "metadata": {},
     "output_type": "execute_result"
    },
    {
     "data": {
      "image/png": "[encoded data removed]",
      "text/plain": [
       "<Figure size 432x288 with 1 Axes>"
      ]
     },
     "metadata": {
      "needs_background": "light"
     },
     "output_type": "display_data"
    }
   ],
   "source": [
    "df.plot.scatter('age','subchannel')#no effect"
   ]
  },
  {
   "cell_type": "code",
   "execution_count": 37,
   "metadata": {},
   "outputs": [
    {
     "data": {
      "text/plain": [
       "<matplotlib.axes._subplots.AxesSubplot at 0x7f46150586d8>"
      ]
     },
     "execution_count": 37,
     "metadata": {},
     "output_type": "execute_result"
    },
    {
     "data": {
      "image/png": "[encoded data removed]",
      "text/plain": [
       "<Figure size 432x288 with 1 Axes>"
      ]
     },
     "metadata": {
      "needs_background": "light"
     },
     "output_type": "display_data"
    }
   ],
   "source": [
    "df.plot.scatter('spends','link_clicks')"
   ]
  },
  {
   "cell_type": "code",
   "execution_count": 39,
   "metadata": {},
   "outputs": [
    {
     "data": {
      "text/plain": [
       "<matplotlib.axes._subplots.AxesSubplot at 0x7f4619899198>"
      ]
     },
     "execution_count": 39,
     "metadata": {},
     "output_type": "execute_result"
    },
    {
     "data": {
      "image/png": "[encoded data removed]",
      "text/plain": [
       "<Figure size 432x288 with 1 Axes>"
      ]
     },
     "metadata": {
      "needs_background": "light"
     },
     "output_type": "display_data"
    }
   ],
   "source": [
    "df.plot.scatter('spends','product')"
   ]
  },
  {
   "cell_type": "code",
   "execution_count": 40,
   "metadata": {},
   "outputs": [],
   "source": [
    "from sklearn.linear_model import LinearRegression"
   ]
  },
  {
   "cell_type": "code",
   "execution_count": 41,
   "metadata": {},
   "outputs": [],
   "source": [
    "import numpy as np\n",
    "import matplotlib.pyplot as plt"
   ]
  },
  {
   "cell_type": "code",
   "execution_count": 43,
   "metadata": {},
   "outputs": [],
   "source": [
    "import sklearn\n",
    "train_data, test_data = sklearn.model_selection.train_test_split(df, train_size=0.8, test_size=0.2)"
   ]
  },
  {
   "cell_type": "code",
   "execution_count": 101,
   "metadata": {},
   "outputs": [],
   "source": [
    "X = df[['impressions']].to_numpy()"
   ]
  },
  {
   "cell_type": "code",
   "execution_count": 102,
   "metadata": {},
   "outputs": [],
   "source": [
    "Y = df[['spends']].to_numpy()"
   ]
  },
  {
   "cell_type": "code",
   "execution_count": 103,
   "metadata": {},
   "outputs": [],
   "source": [
    "linear_regressor = LinearRegression()"
   ]
  },
  {
   "cell_type": "code",
   "execution_count": 104,
   "metadata": {},
   "outputs": [
    {
     "data": {
      "text/plain": [
       "LinearRegression()"
      ]
     },
     "execution_count": 104,
     "metadata": {},
     "output_type": "execute_result"
    }
   ],
   "source": [
    "linear_regressor.fit(X,Y)"
   ]
  },
  {
   "cell_type": "code",
   "execution_count": 105,
   "metadata": {},
   "outputs": [],
   "source": [
    "X_test = test_data[['impressions']].to_numpy()"
   ]
  },
  {
   "cell_type": "code",
   "execution_count": 106,
   "metadata": {},
   "outputs": [],
   "source": [
    "Y_pred = linear_regressor.predict(X)"
   ]
  },
  {
   "cell_type": "code",
   "execution_count": 107,
   "metadata": {},
   "outputs": [
    {
     "data": {
      "text/plain": [
       "<matplotlib.collections.PathCollection at 0x7f46055f01d0>"
      ]
     },
     "execution_count": 107,
     "metadata": {},
     "output_type": "execute_result"
    },
    {
     "data": {
      "image/png": "[encoded data removed]",
      "text/plain": [
       "<Figure size 432x288 with 1 Axes>"
      ]
     },
     "metadata": {
      "needs_background": "light"
     },
     "output_type": "display_data"
    }
   ],
   "source": [
    "plt.scatter(X,Y)"
   ]
  },
  {
   "cell_type": "code",
   "execution_count": 108,
   "metadata": {},
   "outputs": [
    {
     "data": {
      "image/png": "[encoded data removed]",
      "text/plain": [
       "<Figure size 432x288 with 1 Axes>"
      ]
     },
     "metadata": {
      "needs_background": "light"
     },
     "output_type": "display_data"
    }
   ],
   "source": [
    "plt.scatter(X,Y)\n",
    "plt.plot(X, Y_pred, color='red')\n",
    "plt.show()"
   ]
  },
  {
   "cell_type": "code",
   "execution_count": 109,
   "metadata": {},
   "outputs": [],
   "source": [
    "linear_regressor1 = LinearRegression()"
   ]
  },
  {
   "cell_type": "code",
   "execution_count": 110,
   "metadata": {},
   "outputs": [],
   "source": [
    "X_train = train_data[['impressions']].to_numpy()\n",
    "Y_train = train_data[['spends']].to_numpy()"
   ]
  },
  {
   "cell_type": "code",
   "execution_count": 111,
   "metadata": {},
   "outputs": [
    {
     "data": {
      "text/plain": [
       "LinearRegression()"
      ]
     },
     "execution_count": 111,
     "metadata": {},
     "output_type": "execute_result"
    }
   ],
   "source": [
    "linear_regressor1.fit(X_train,Y_train)"
   ]
  },
  {
   "cell_type": "code",
   "execution_count": 112,
   "metadata": {},
   "outputs": [
    {
     "data": {
      "text/plain": [
       "<matplotlib.collections.PathCollection at 0x7f4605573978>"
      ]
     },
     "execution_count": 112,
     "metadata": {},
     "output_type": "execute_result"
    },
    {
     "data": {
      "image/png": "[encoded data removed]",
      "text/plain": [
       "<Figure size 432x288 with 1 Axes>"
      ]
     },
     "metadata": {
      "needs_background": "light"
     },
     "output_type": "display_data"
    }
   ],
   "source": [
    "plt.scatter(X_train,Y_train)"
   ]
  },
  {
   "cell_type": "code",
   "execution_count": 117,
   "metadata": {},
   "outputs": [],
   "source": [
    "X_tes = test_data[['impressions']].to_numpy()\n",
    "Y_tes = test_data[['spends']].to_numpy()"
   ]
  },
  {
   "cell_type": "code",
   "execution_count": 118,
   "metadata": {},
   "outputs": [],
   "source": [
    "Y_pre = linear_regressor1.predict(X_tes)"
   ]
  },
  {
   "cell_type": "code",
   "execution_count": 128,
   "metadata": {},
   "outputs": [
    {
     "data": {
      "image/png": "[encoded data removed]",
      "text/plain": [
       "<Figure size 432x288 with 1 Axes>"
      ]
     },
     "metadata": {
      "needs_background": "light"
     },
     "output_type": "display_data"
    }
   ],
   "source": [
    "#checking the plot between test data and predicted data\n",
    "plt.scatter(X_tes,Y_tes)\n",
    "plt.plot(X_train, linear_regressor1.predict(X_train), color='red')\n",
    "plt.title('Spends Vs Impressions')\n",
    "plt.xlabel('impressions')\n",
    "plt.ylabel('spends')\n",
    "plt.show()"
   ]
  },
  {
   "cell_type": "code",
   "execution_count": 129,
   "metadata": {},
   "outputs": [],
   "source": [
    "#now evaluating our model"
   ]
  },
  {
   "cell_type": "code",
   "execution_count": 130,
   "metadata": {},
   "outputs": [],
   "source": [
    "from sklearn.metrics import mean_absolute_error"
   ]
  },
  {
   "cell_type": "code",
   "execution_count": 131,
   "metadata": {},
   "outputs": [
    {
     "data": {
      "text/plain": [
       "148.58568349251203"
      ]
     },
     "execution_count": 131,
     "metadata": {},
     "output_type": "execute_result"
    }
   ],
   "source": [
    "mean_absolute_error(Y_tes, Y_pre)"
   ]
  },
  {
   "cell_type": "code",
   "execution_count": 132,
   "metadata": {},
   "outputs": [],
   "source": [
    "from sklearn.metrics import mean_squared_error"
   ]
  },
  {
   "cell_type": "code",
   "execution_count": 133,
   "metadata": {},
   "outputs": [
    {
     "data": {
      "text/plain": [
       "116709.88952711831"
      ]
     },
     "execution_count": 133,
     "metadata": {},
     "output_type": "execute_result"
    }
   ],
   "source": [
    "mean_squared_error(Y_tes, Y_pre)"
   ]
  },
  {
   "cell_type": "code",
   "execution_count": 137,
   "metadata": {},
   "outputs": [
    {
     "data": {
      "text/plain": [
       "0.4334107489599405"
      ]
     },
     "execution_count": 137,
     "metadata": {},
     "output_type": "execute_result"
    }
   ],
   "source": [
    "from sklearn.metrics import r2_score\n",
    "r2_score(Y_tes,Y_pre)"
   ]
  },
  {
   "cell_type": "code",
   "execution_count": null,
   "metadata": {},
   "outputs": [],
   "source": [
    "#from r2 score we can say that our model is not so perfect. For perfect models r2 score is 1 and for failure models r2 score is 0"
   ]
  }
 ],
 "metadata": {
  "kernelspec": {
   "display_name": "Python 3",
   "language": "python",
   "name": "python3"
  },
  "language_info": {
   "codemirror_mode": {
    "name": "ipython",
    "version": 3
   },
   "file_extension": ".py",
   "mimetype": "text/x-python",
   "name": "python",
   "nbconvert_exporter": "python",
   "pygments_lexer": "ipython3",
   "version": "3.6.10"
  }
 },
 "nbformat": 4,
 "nbformat_minor": 4
}
